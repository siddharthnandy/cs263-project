{
  "nbformat": 4,
  "nbformat_minor": 0,
  "metadata": {
    "colab": {
      "provenance": []
    },
    "kernelspec": {
      "name": "python3",
      "display_name": "Python 3"
    },
    "language_info": {
      "name": "python"
    }
  },
  "cells": [
    {
      "cell_type": "markdown",
      "source": [
        "## Dataset Generation"
      ],
      "metadata": {
        "id": "b7QQ6iIisvUB"
      }
    },
    {
      "cell_type": "code",
      "source": [
        "all_essay_info = {\n",
        "    7: {\n",
        "        \"prompt\": \"Write about patience. Being patient means that you are understanding and tolerant. A patient person experience difficulties without complaining. Do only one of the following: write a story about a time when you were patient OR write a story about a time when someone you know was patient OR write a story in your own way about patience.\",\n",
        "        \"rubric\": {\n",
        "            \"3\": \"Tells a story with ideas that are clearly focused on the topic and are thoroughly developed with specific, relevant details. Organization and connections between ideas and/or events are clear and logically sequenced. Command of language, including effective and compelling word choice and varied sentence structure, clearly supports the writer's purpose and audience. Consistent, appropriate use of conventions of Standard English for grammar, usage, spelling, capitalization, and punctuation for the grade level.\",\n",
        "            \"2\": \"Tells a story with ideas that are somewhat focused on the topic and are developed with a mix of specific and/or general details. Organization and connections between ideas and/or events are logically sequenced. Adequate command of language, including effective word choice and clear sentences, supports the writer's purpose and audience. Adequate use of conventions of Standard English for grammar, usage, spelling, capitalization, and punctuation for the grade level.\",\n",
        "            \"1\": \"Tells a story with ideas that are minimally focused on the topic and developed with limited and/or general details. Organization and connections between ideas and/or events are weak. Limited use of language, including lack of variety in word choice and sentences, may hinder support for the writer's purpose and audience. Limited use of conventions of Standard English for grammar, usage, spelling, capitalization, and punctuation for the grade level.\",\n",
        "            \"0\": \"Ideas are not focused on the task and/or are undeveloped. No organization evident. Ineffective use of language for the writer's purpose and audience. Ineffective use of conventions of Standard English for grammar, usage, spelling, capitalization, and punctuation.\"\n",
        "        },\n",
        "        \"min_length\": 200,\n",
        "        \"max_length\": 300\n",
        "    },\n",
        "    8: {\n",
        "        \"prompt\":\"We all understand the benefits of laughter. For example, someone once said, “Laughter is the shortest distance between two people.” Many other people believe that laughter is an important part of any relationship. Tell a true story in which laughter was one element or part.\",\n",
        "        \"rubric\": {\n",
        "            \"6\": \"The writing is exceptionally clear, focused, and interesting. It holds the reader’s attention throughout. Main ideas stand out and are developed by strong support and rich details suitable to audience and purpose. The writing is characterized by: clarity, focus, and control; main idea(s) that stand out; supporting, relevant, carefully selected details; when appropriate, use of resources provides strong, accurate, credible support; a thorough, balanced, in-depth explanation / exploration of the topic; the writing makes connections and shares insights; content and selected details that are well-suited to audience and purpose. The organization enhances the central idea(s) and its development. The order and structure are compelling and move the reader through the text easily. The writing is characterized by: effective, perhaps creative, sequencing and paragraph breaks; the organizational structure fits the topic, and the writing is easy to follow; a strong, inviting beginning that draws the reader in and a strong, satisfying sense of resolution or closure; smooth, effective transitions among all elements (sentences, paragraphs, ideas); details that fit where placed. The writer has chosen a voice appropriate for the topic, purpose, and audience. The writer demonstrates deep commitment to the topic, and there is an exceptional sense of “writing to be read.” The writing is expressive, engaging, or sincere. The writing is characterized by: an effective level of closeness to or distance from the audience (e.g., a narrative should have a strong personal voice, while an expository piece may require extensive use of outside resources and a more academic voice; nevertheless, both should be engaging, lively, or interesting. Technical writing may require greater distance.); an exceptionally strong sense of audience; the writer seems to be aware of the reader and of how to communicate the message most effectively. The reader may discern the writer behind the words and feel a sense of interaction; a sense that the topic has come to life; when appropriate, the writing may show originality, liveliness, honesty, conviction, excitement, humor, or suspense.\",\n",
        "            \"5\": \"The writing is clear, focused and interesting. It holds the reader’s attention. Main ideas stand out and are developed by supporting details suitable to audience and purpose. The writing is characterized by: clarity, focus, and control; main idea(s) that stand out; supporting, relevant, carefully selected details; when appropriate, use of resources provides strong, accurate, credible support; a thorough, balanced explanation / exploration of the topic; the writing makes connections and shares insights; content and selected details that are well-suited to audience and purpose. The organization enhances the central idea(s) and its development. The order and structure are strong and move the reader through the text. The writing is characterized by: effective sequencing and paragraph breaks; the organizational structure fits the topic, and the writing is easy to follow; an inviting beginning that draws the reader in and a satisfying sense of resolution or closure; smooth, effective transitions among all elements (sentences, paragraphs, ideas); details that fit where placed. The writer has chosen a voice appropriate for the topic, purpose, and audience. The writer demonstrates commitment to the topic, and there is a sense of “writing to be read.” The writing is expressive, engaging, or sincere. The writing is characterized by: an appropriate level of closeness to or distance from the audience (e.g., a narrative should have a strong personal voice, while an expository piece may require extensive use of outside resources and a more academic voice; nevertheless, both should be engaging, lively, or interesting. Technical writing may require greater distance.); a strong sense of audience; the writer seems to be aware of the reader and of how to communicate the message most effectively. The reader may discern the writer behind the words and feel a sense of interaction; a sense that the topic has come to life; when appropriate, the writing may show originality, liveliness, honesty, conviction, excitement, humor, or suspense.\",\n",
        "            \"4\": \"The writing is clear and focused. The reader can easily understand the main ideas. Support is present, although it may be limited or rather general. The writing is characterized by: an easily identifiable purpose; clear main idea(s); supporting details that are relevant, but may be overly general or limited in places; when appropriate, resources are used to provide accurate support; a topic that is explored / explained, although developmental details may occasionally be out of balance with the main idea(s); some connections and insights may be present; content and selected details that are relevant, but perhaps not consistently well-chosen for audience and purpose. Organization is clear and coherent. Order and structure are present, but may seem formulaic. The writing is characterized by: clear sequencing and paragraph breaks; an organization that may be predictable; a recognizable, developed beginning that may not be particularly inviting; a developed conclusion that may lack subtlety; a body that is easy to follow with details that fit where placed; transitions that may be stilted or formulaic; organization which helps the reader, despite some weaknesses. A voice is present. The writer seems committed to the topic, and there may be a sense of “writing to be read.” In places, the writing is expressive, engaging, or sincere. The writing is characterized by: a suitable level of closeness to or distance from the audience; a sense of audience; the writer seems to be aware of the reader but has not consistently employed an appropriate voice. The reader may glimpse the writer behind the words and feel a sense of interaction in places; liveliness, sincerity, or humor when appropriate; however, at times the writing may be either inappropriately casual or personal, or inappropriately formal and stiff.\",\n",
        "            \"3\": \"The reader can understand the main ideas, although they may be overly broad or simplistic, and the results may not be effective. Supporting detail is often limited, insubstantial, overly general, or occasionally slightly off-topic. The writing is characterized by: an easily identifiable purpose and main idea(s); predictable or overly-obvious main ideas; or points that echo observations heard elsewhere; or a close retelling of another work; support that is attempted, but developmental details are often limited, uneven, somewhat off-topic, predictable, or too general (e.g., a list of underdeveloped points); details that may not be well-grounded in credible resources; they may be based on clichés, stereotypes or questionable sources of information; difficulties when moving from general observations to specifics. An attempt has been made to organize the writing; however, the overall structure is inconsistent or skeletal. The writing is characterized by: attempts at sequencing and paragraph breaks, but the order or the relationship among ideas may occasionally be unclear; a beginning and an ending which, although present, are either undeveloped or too obvious (e.g., “My topic is...”; “These are all the reasons that...”); transitions that sometimes work. The same few transitional devices (e.g., coordinating conjunctions, numbering, etc.) may be overused; a structure that is skeletal or too rigid; placement of details that may not always be effective; organization which lapses in some places, but helps the reader in others. The writer’s commitment to the topic seems inconsistent. A sense of the writer may emerge at times; however, the voice is either inappropriately personal or inappropriately impersonal. The writing is characterized by: a limited sense of audience; the writer’s awareness of the reader is unclear; an occasional sense of the writer behind the words; however, the voice may shift or disappear a line or two later and the writing become somewhat mechanical; a limited ability to shift to a more objective voice when necessary; text that is too short to demonstrate a consistent and appropriate voice.\",\n",
        "            \"2\": \"Main ideas and purpose are somewhat unclear or development is attempted but minimal. The writing is characterized by: a purpose and main idea(s) that may require extensive inferences by the reader; minimal development; insufficient details; irrelevant details that clutter the text; extensive repetition of detail. The writing lacks a clear organizational structure. An occasional organizational device is discernible; however, the writing is either difficult to follow and the reader has to reread substantial portions, or the piece is simply too short to demonstrate organizational skills. The writing is characterized by: some attempts at sequencing, but the order or the relationship among ideas is frequently unclear; a lack of paragraph breaks; a missing or extremely undeveloped beginning, body, and/or ending; a lack of transitions, or when present, ineffective or overused; a lack of an effective organizational structure; details that seem to be randomly placed, leaving the reader frequently confused. The writing provides little sense of involvement or commitment. There is no evidence that the writer has chosen a suitable voice. The writing is characterized by: little engagement of the writer; the writing tends to be largely flat, lifeless, stiff, or mechanical; a voice that is likely to be overly informal and personal; a lack of audience awareness; there is little sense of “writing to be read”; little or no hint of the writer behind the words. There is rarely a sense of interaction between reader and writer.\",\n",
        "            \"1\": \"The writing lacks a central idea or purpose. The writing is characterized by: ideas that are extremely limited or simply unclear; attempts at development that are minimal or nonexistent; the paper is too short to demonstrate the development of an idea. The writing lacks coherence; organization seems haphazard and disjointed. Even after rereading, the reader remains confused. The writing is characterized by: a lack of effective sequencing and paragraph breaks; a failure to provide an identifiable beginning, body and/or ending; a lack of transitions; pacing that is consistently awkward; the reader feels either mired down in trivia or rushed along too rapidly; a lack of organization which ultimately obscures or distorts the main point. The writing seems to lack a sense of involvement or commitment. The writing is characterized by: no engagement of the writer; the writing is flat and lifeless; a lack of audience awareness; there is no sense of “writing to be read”; no hint of the writer behind the words. There is no sense of interaction between writer and reader; the writing does not involve or engage the reader.\"\n",
        "        },\n",
        "        \"min_length\": 550,\n",
        "        \"max_length\": 750\n",
        "    }\n",
        "}"
      ],
      "metadata": {
        "id": "UEgz68QDsxRh"
      },
      "execution_count": null,
      "outputs": []
    },
    {
      "cell_type": "code",
      "source": [
        "essay_prompts = [\n",
        "    \"Write about patience. Being patient means that you are understanding and tolerant. A patient person experience difficulties without complaining. Do only one of the following: write a story about a time when you were patient OR write a story about a time when someone you know was patient OR write a story in your own way about patience.\",\n",
        "    \"We all understand the benefits of laughter. For example, someone once said, “Laughter is the shortest distance between two people.” Many other people believe that laughter is an important part of any relationship. Tell a true story in which laughter was one element or part.\",\n",
        "    \"Resilience is the ability to bounce back from adversity, challenges, or setbacks. It involves staying strong, flexible, and optimistic even in difficult times. A resilient person is not easily discouraged and can find ways to move forward despite obstacles. Write a story about a time when you or someone you know demonstrated resilience in the face of a challenge.\"\n",
        "]\n",
        "\n",
        "quality_prompts = [\n",
        "    \"an excellent essay that has no spelling or grammar mistakes, is very focused and organized very well, has advanced but appropriate vocabulary choice, and has the style of a tenth grader's writing\",\n",
        "    \"an average essay that has inconsistent but minimal spelling and grammar errors, but it lack coherent structure and organization, is minimally focused, and has the style of a fourth or fifth grader's writing, \",\n",
        "    \"a bad essay that has many spelling mistakes, is completely off-topic and disorganized, have English and punctuation errors, has the style of a first or second grader's writing, and is overall poor\",\n",
        "]"
      ],
      "metadata": {
        "id": "aWmctlUTIQ8G"
      },
      "execution_count": null,
      "outputs": []
    },
    {
      "cell_type": "code",
      "source": [
        "prompts = []\n",
        "for essay_prompt in essay_prompts:\n",
        "  for quality in quality_prompts:\n",
        "    essay_prompt_string = f\"Prompt: {essay_prompt}\\n\\n\"\n",
        "    final_prompt_string = f\"Given the prompt, write {quality}.\"\n",
        "    prompts.append(essay_prompt_string + final_prompt_string)\n",
        "# for essay_set, essay_info in all_essay_info.items():\n",
        "#   essay_prompt_string = f\"Prompt: {essay_info['prompt']}\\n\\n\"\n",
        "\n",
        "#   # rubric_string = \"Rubric:\\n\"\n",
        "#   # for score, desc in essay_info[\"rubric\"].items():\n",
        "#   #   rubric_string += f\"{score}: {desc}\\n\"\n",
        "#   # rubric_string += \"\\n\"\n",
        "\n",
        "#   # for score in essay_info[\"rubric\"]:\n",
        "#   # for quality in [\"bad\", \"average\", \"good\"]:\n",
        "#   #   # final_prompt_string = f\"Given the prompt and rubric, write an essay between {essay_info['min_length']} and {essay_info['max_length']} words that would earn a score of {score}.\"\n",
        "#   #   final_prompt_string = f\"Given the prompt, write a{} essay that is {quality} according to the rubric.\"\n",
        "#   #   prompts.append(essay_prompt_string + rubric_string + final_prompt_string)\n",
        "#   for rubric_row, rubric_attrs in essay_info[\"rubric\"].items():\n",
        "#     example_essay = f\"Example of a{rubric_attrs['adjective']} essay: {rubric_attrs['in-context']}\\n\\n\"\n",
        "\n",
        "#     final_prompt_string = f\"Given the prompt, write a{rubric_attrs['adjective']} essay. {rubric_attrs['description']}\"\n",
        "#     prompts.append(essay_prompt_string + example_essay + final_prompt_string)\n"
      ],
      "metadata": {
        "id": "m-LldaW01acO"
      },
      "execution_count": null,
      "outputs": []
    },
    {
      "cell_type": "code",
      "source": [
        "len(prompts)"
      ],
      "metadata": {
        "colab": {
          "base_uri": "https://localhost:8080/"
        },
        "id": "bAFnU5JOP4BG",
        "outputId": "e3bba10b-c1f3-4037-edda-525c5fee6bad"
      },
      "execution_count": null,
      "outputs": [
        {
          "output_type": "execute_result",
          "data": {
            "text/plain": [
              "9"
            ]
          },
          "metadata": {},
          "execution_count": 97
        }
      ]
    },
    {
      "cell_type": "code",
      "source": [
        "from google.colab import userdata\n",
        "OPENAI_API_KEY = userdata.get('OPENAI_API_KEY')"
      ],
      "metadata": {
        "id": "RBIoRyDmzfzz"
      },
      "execution_count": null,
      "outputs": []
    },
    {
      "cell_type": "code",
      "source": [
        "%pip install openai"
      ],
      "metadata": {
        "colab": {
          "base_uri": "https://localhost:8080/"
        },
        "id": "ixpcp4Vm3_kN",
        "outputId": "e492af24-e928-4f0e-9a87-3907012b754f"
      },
      "execution_count": null,
      "outputs": [
        {
          "output_type": "stream",
          "name": "stdout",
          "text": [
            "Collecting openai\n",
            "  Downloading openai-1.30.1-py3-none-any.whl (320 kB)\n",
            "\u001b[?25l     \u001b[90m━━━━━━━━━━━━━━━━━━━━━━━━━━━━━━━━━━━━━━━━\u001b[0m \u001b[32m0.0/320.6 kB\u001b[0m \u001b[31m?\u001b[0m eta \u001b[36m-:--:--\u001b[0m\r\u001b[2K     \u001b[91m━━━━━━━\u001b[0m\u001b[91m╸\u001b[0m\u001b[90m━━━━━━━━━━━━━━━━━━━━━━━━━━━━━━━━\u001b[0m \u001b[32m61.4/320.6 kB\u001b[0m \u001b[31m1.6 MB/s\u001b[0m eta \u001b[36m0:00:01\u001b[0m\r\u001b[2K     \u001b[91m━━━━━━━━━━━━━━━━━━━━━━━━━━━━━━━━━━━━━━━\u001b[0m\u001b[91m╸\u001b[0m \u001b[32m317.4/320.6 kB\u001b[0m \u001b[31m5.0 MB/s\u001b[0m eta \u001b[36m0:00:01\u001b[0m\r\u001b[2K     \u001b[90m━━━━━━━━━━━━━━━━━━━━━━━━━━━━━━━━━━━━━━━━\u001b[0m \u001b[32m320.6/320.6 kB\u001b[0m \u001b[31m4.2 MB/s\u001b[0m eta \u001b[36m0:00:00\u001b[0m\n",
            "\u001b[?25hRequirement already satisfied: anyio<5,>=3.5.0 in /usr/local/lib/python3.10/dist-packages (from openai) (3.7.1)\n",
            "Requirement already satisfied: distro<2,>=1.7.0 in /usr/lib/python3/dist-packages (from openai) (1.7.0)\n",
            "Collecting httpx<1,>=0.23.0 (from openai)\n",
            "  Downloading httpx-0.27.0-py3-none-any.whl (75 kB)\n",
            "\u001b[2K     \u001b[90m━━━━━━━━━━━━━━━━━━━━━━━━━━━━━━━━━━━━━━━━\u001b[0m \u001b[32m75.6/75.6 kB\u001b[0m \u001b[31m5.6 MB/s\u001b[0m eta \u001b[36m0:00:00\u001b[0m\n",
            "\u001b[?25hRequirement already satisfied: pydantic<3,>=1.9.0 in /usr/local/lib/python3.10/dist-packages (from openai) (2.7.1)\n",
            "Requirement already satisfied: sniffio in /usr/local/lib/python3.10/dist-packages (from openai) (1.3.1)\n",
            "Requirement already satisfied: tqdm>4 in /usr/local/lib/python3.10/dist-packages (from openai) (4.66.4)\n",
            "Requirement already satisfied: typing-extensions<5,>=4.7 in /usr/local/lib/python3.10/dist-packages (from openai) (4.11.0)\n",
            "Requirement already satisfied: idna>=2.8 in /usr/local/lib/python3.10/dist-packages (from anyio<5,>=3.5.0->openai) (3.7)\n",
            "Requirement already satisfied: exceptiongroup in /usr/local/lib/python3.10/dist-packages (from anyio<5,>=3.5.0->openai) (1.2.1)\n",
            "Requirement already satisfied: certifi in /usr/local/lib/python3.10/dist-packages (from httpx<1,>=0.23.0->openai) (2024.2.2)\n",
            "Collecting httpcore==1.* (from httpx<1,>=0.23.0->openai)\n",
            "  Downloading httpcore-1.0.5-py3-none-any.whl (77 kB)\n",
            "\u001b[2K     \u001b[90m━━━━━━━━━━━━━━━━━━━━━━━━━━━━━━━━━━━━━━━━\u001b[0m \u001b[32m77.9/77.9 kB\u001b[0m \u001b[31m8.0 MB/s\u001b[0m eta \u001b[36m0:00:00\u001b[0m\n",
            "\u001b[?25hCollecting h11<0.15,>=0.13 (from httpcore==1.*->httpx<1,>=0.23.0->openai)\n",
            "  Downloading h11-0.14.0-py3-none-any.whl (58 kB)\n",
            "\u001b[2K     \u001b[90m━━━━━━━━━━━━━━━━━━━━━━━━━━━━━━━━━━━━━━━━\u001b[0m \u001b[32m58.3/58.3 kB\u001b[0m \u001b[31m8.4 MB/s\u001b[0m eta \u001b[36m0:00:00\u001b[0m\n",
            "\u001b[?25hRequirement already satisfied: annotated-types>=0.4.0 in /usr/local/lib/python3.10/dist-packages (from pydantic<3,>=1.9.0->openai) (0.6.0)\n",
            "Requirement already satisfied: pydantic-core==2.18.2 in /usr/local/lib/python3.10/dist-packages (from pydantic<3,>=1.9.0->openai) (2.18.2)\n",
            "Installing collected packages: h11, httpcore, httpx, openai\n",
            "Successfully installed h11-0.14.0 httpcore-1.0.5 httpx-0.27.0 openai-1.30.1\n"
          ]
        }
      ]
    },
    {
      "cell_type": "code",
      "source": [
        "from openai import OpenAI\n",
        "\n",
        "client = OpenAI(api_key=OPENAI_API_KEY)"
      ],
      "metadata": {
        "id": "o3KepZzRwED_"
      },
      "execution_count": null,
      "outputs": []
    },
    {
      "cell_type": "code",
      "source": [
        "print(prompts[2])"
      ],
      "metadata": {
        "colab": {
          "base_uri": "https://localhost:8080/"
        },
        "id": "Odtu8me04fMY",
        "outputId": "96d31aef-27a6-48ad-9f9d-3dbce20e75dc"
      },
      "execution_count": null,
      "outputs": [
        {
          "output_type": "stream",
          "name": "stdout",
          "text": [
            "Prompt: Write about patience. Being patient means that you are understanding and tolerant. A patient person experience difficulties without complaining. Do only one of the following: write a story about a time when you were patient OR write a story about a time when someone you know was patient OR write a story in your own way about patience.\n",
            "\n",
            "Given the prompt, write a bad essay that has many spelling mistakes, is almost completely off-topic and disorganized, have English and punctuation errors, has the style of a first or second grader's writing, and is overall poor.\n"
          ]
        }
      ]
    },
    {
      "cell_type": "code",
      "source": [
        "outputs = []\n",
        "for i in range(6):\n",
        "  for prompt in prompts:\n",
        "    print(i)\n",
        "    completion = client.chat.completions.create(\n",
        "      model=\"gpt-3.5-turbo\",\n",
        "      temperature=1.0,\n",
        "      messages=[\n",
        "        {\"role\": \"user\", \"content\": prompt}\n",
        "      ]\n",
        "    )\n",
        "    outputs.append(completion.choices[0].message.content)"
      ],
      "metadata": {
        "colab": {
          "base_uri": "https://localhost:8080/"
        },
        "id": "zGa44WeH4C5D",
        "outputId": "0c238ee7-8354-4842-acb6-3a9d8675d724"
      },
      "execution_count": null,
      "outputs": [
        {
          "output_type": "stream",
          "name": "stdout",
          "text": [
            "0\n",
            "0\n",
            "0\n",
            "0\n",
            "0\n",
            "0\n",
            "0\n",
            "0\n",
            "0\n",
            "1\n",
            "1\n",
            "1\n",
            "1\n",
            "1\n",
            "1\n",
            "1\n",
            "1\n",
            "1\n",
            "2\n",
            "2\n",
            "2\n",
            "2\n",
            "2\n",
            "2\n",
            "2\n",
            "2\n",
            "2\n",
            "3\n",
            "3\n",
            "3\n",
            "3\n",
            "3\n",
            "3\n",
            "3\n",
            "3\n",
            "3\n",
            "4\n",
            "4\n",
            "4\n",
            "4\n",
            "4\n",
            "4\n",
            "4\n",
            "4\n",
            "4\n",
            "5\n",
            "5\n",
            "5\n",
            "5\n",
            "5\n",
            "5\n",
            "5\n",
            "5\n",
            "5\n"
          ]
        }
      ]
    },
    {
      "cell_type": "code",
      "source": [
        "len(outputs)"
      ],
      "metadata": {
        "colab": {
          "base_uri": "https://localhost:8080/"
        },
        "id": "AOUkxsQwPByh",
        "outputId": "d2bed366-7ec2-40f3-908e-6383c5aada9e"
      },
      "execution_count": null,
      "outputs": [
        {
          "output_type": "execute_result",
          "data": {
            "text/plain": [
              "54"
            ]
          },
          "metadata": {},
          "execution_count": 99
        }
      ]
    },
    {
      "cell_type": "code",
      "source": [
        "all_prompts = prompts * 6"
      ],
      "metadata": {
        "id": "pL3K8XyxRhN4"
      },
      "execution_count": null,
      "outputs": []
    },
    {
      "cell_type": "code",
      "source": [
        "import csv\n",
        "\n",
        "# Combine the lists into rows\n",
        "rows = zip(all_prompts, outputs)\n",
        "\n",
        "# Define the CSV file name\n",
        "filename = \"output.csv\"\n",
        "\n",
        "# Write the rows to the CSV file\n",
        "with open(filename, mode='w', newline='') as file:\n",
        "    writer = csv.writer(file)\n",
        "    writer.writerow([\"Prompt\", \"Output\"])  # Write the header\n",
        "    writer.writerows(rows)  # Write the data rows\n",
        "\n",
        "print(f\"Data has been written to {filename}\")\n"
      ],
      "metadata": {
        "colab": {
          "base_uri": "https://localhost:8080/"
        },
        "id": "M24BqYb-RtYn",
        "outputId": "283da8b6-ad0b-43df-8a66-629db18cc48f"
      },
      "execution_count": null,
      "outputs": [
        {
          "output_type": "stream",
          "name": "stdout",
          "text": [
            "Data has been written to output.csv\n"
          ]
        }
      ]
    },
    {
      "cell_type": "code",
      "source": [
        "for i in range(6):\n",
        "  for j in range(9):"
      ],
      "metadata": {
        "id": "R5tr64o4RV7Q"
      },
      "execution_count": null,
      "outputs": []
    },
    {
      "cell_type": "markdown",
      "source": [
        "## Fine-Tuning"
      ],
      "metadata": {
        "id": "HNU6pLYksqb1"
      }
    },
    {
      "cell_type": "code",
      "execution_count": null,
      "metadata": {
        "id": "jOqWbRTEqOEL"
      },
      "outputs": [],
      "source": [
        "import pandas as pd"
      ]
    },
    {
      "cell_type": "code",
      "source": [
        "train_df = pd.read_csv('training_set_rel3.tsv', delimiter='\\t', encoding='latin1')\n",
        "valid_df = pd.read_csv('valid_set.tsv', delimiter='\\t', encoding='latin1')\n",
        "test_df = pd.read_csv('test_set.tsv', delimiter='\\t', encoding='latin1')"
      ],
      "metadata": {
        "id": "6Hwq7Jccqlwy"
      },
      "execution_count": null,
      "outputs": []
    },
    {
      "cell_type": "code",
      "source": [
        "print(train_df.head())"
      ],
      "metadata": {
        "colab": {
          "base_uri": "https://localhost:8080/"
        },
        "id": "tb0tniJNrSAv",
        "outputId": "f8e89c3a-07b8-4426-9b72-a2f4ae51d763"
      },
      "execution_count": null,
      "outputs": [
        {
          "output_type": "stream",
          "name": "stdout",
          "text": [
            "   essay_id  essay_set                                              essay  \\\n",
            "0         1          1  Dear local newspaper, I think effects computer...   \n",
            "1         2          1  Dear @CAPS1 @CAPS2, I believe that using compu...   \n",
            "2         3          1  Dear, @CAPS1 @CAPS2 @CAPS3 More and more peopl...   \n",
            "3         4          1  Dear Local Newspaper, @CAPS1 I have found that...   \n",
            "4         5          1  Dear @LOCATION1, I know having computers has a...   \n",
            "\n",
            "   rater1_domain1  rater2_domain1  rater3_domain1  domain1_score  \\\n",
            "0               4               4             NaN              8   \n",
            "1               5               4             NaN              9   \n",
            "2               4               3             NaN              7   \n",
            "3               5               5             NaN             10   \n",
            "4               4               4             NaN              8   \n",
            "\n",
            "   rater1_domain2  rater2_domain2  domain2_score  ...  rater2_trait3  \\\n",
            "0             NaN             NaN            NaN  ...            NaN   \n",
            "1             NaN             NaN            NaN  ...            NaN   \n",
            "2             NaN             NaN            NaN  ...            NaN   \n",
            "3             NaN             NaN            NaN  ...            NaN   \n",
            "4             NaN             NaN            NaN  ...            NaN   \n",
            "\n",
            "   rater2_trait4  rater2_trait5  rater2_trait6  rater3_trait1  rater3_trait2  \\\n",
            "0            NaN            NaN            NaN            NaN            NaN   \n",
            "1            NaN            NaN            NaN            NaN            NaN   \n",
            "2            NaN            NaN            NaN            NaN            NaN   \n",
            "3            NaN            NaN            NaN            NaN            NaN   \n",
            "4            NaN            NaN            NaN            NaN            NaN   \n",
            "\n",
            "   rater3_trait3  rater3_trait4  rater3_trait5  rater3_trait6  \n",
            "0            NaN            NaN            NaN            NaN  \n",
            "1            NaN            NaN            NaN            NaN  \n",
            "2            NaN            NaN            NaN            NaN  \n",
            "3            NaN            NaN            NaN            NaN  \n",
            "4            NaN            NaN            NaN            NaN  \n",
            "\n",
            "[5 rows x 28 columns]\n"
          ]
        }
      ]
    },
    {
      "cell_type": "code",
      "source": [
        "train_df.loc[train_df['essay_set'] == 7].iloc[0]"
      ],
      "metadata": {
        "colab": {
          "base_uri": "https://localhost:8080/"
        },
        "id": "2dlA-Lv-t6ic",
        "outputId": "ab78685e-c411-4ca8-815f-8ffc30a7f2b5"
      },
      "execution_count": null,
      "outputs": [
        {
          "output_type": "execute_result",
          "data": {
            "text/plain": [
              "essay_id                                                      17834\n",
              "essay_set                                                         7\n",
              "essay             Patience is when your waiting .I was patience ...\n",
              "rater1_domain1                                                    8\n",
              "rater2_domain1                                                    7\n",
              "rater3_domain1                                                  NaN\n",
              "domain1_score                                                    15\n",
              "rater1_domain2                                                  NaN\n",
              "rater2_domain2                                                  NaN\n",
              "domain2_score                                                   NaN\n",
              "rater1_trait1                                                   1.0\n",
              "rater1_trait2                                                   2.0\n",
              "rater1_trait3                                                   2.0\n",
              "rater1_trait4                                                   3.0\n",
              "rater1_trait5                                                   NaN\n",
              "rater1_trait6                                                   NaN\n",
              "rater2_trait1                                                   1.0\n",
              "rater2_trait2                                                   2.0\n",
              "rater2_trait3                                                   2.0\n",
              "rater2_trait4                                                   2.0\n",
              "rater2_trait5                                                   NaN\n",
              "rater2_trait6                                                   NaN\n",
              "rater3_trait1                                                   NaN\n",
              "rater3_trait2                                                   NaN\n",
              "rater3_trait3                                                   NaN\n",
              "rater3_trait4                                                   NaN\n",
              "rater3_trait5                                                   NaN\n",
              "rater3_trait6                                                   NaN\n",
              "Name: 10684, dtype: object"
            ]
          },
          "metadata": {},
          "execution_count": 12
        }
      ]
    },
    {
      "cell_type": "code",
      "source": [
        "print(valid_df.head())"
      ],
      "metadata": {
        "colab": {
          "base_uri": "https://localhost:8080/"
        },
        "id": "dU3H_NBgrZiv",
        "outputId": "2d73e4cd-0655-4229-895d-8dd720eef01c"
      },
      "execution_count": null,
      "outputs": [
        {
          "output_type": "stream",
          "name": "stdout",
          "text": [
            "   essay_id  essay_set                                              essay  \\\n",
            "0      1788          1  Dear @ORGANIZATION1, @CAPS1 more and more peop...   \n",
            "1      1789          1  Dear @LOCATION1 Time @CAPS1 me tell you what I...   \n",
            "2      1790          1  Dear Local newspaper, Have you been spending a...   \n",
            "3      1791          1  Dear Readers, @CAPS1 you imagine how life woul...   \n",
            "4      1792          1  Dear newspaper, I strongly believe that comput...   \n",
            "\n",
            "   domain1_predictionid  domain2_predictionid  \n",
            "0                  1788                   NaN  \n",
            "1                  1789                   NaN  \n",
            "2                  1790                   NaN  \n",
            "3                  1791                   NaN  \n",
            "4                  1792                   NaN  \n"
          ]
        }
      ]
    },
    {
      "cell_type": "code",
      "source": [
        "print(test_df.head())"
      ],
      "metadata": {
        "colab": {
          "base_uri": "https://localhost:8080/"
        },
        "id": "KpXCjEUnrbNB",
        "outputId": "a81c3a6b-9bba-4dc5-ab40-b79229b708b0"
      },
      "execution_count": null,
      "outputs": [
        {
          "output_type": "stream",
          "name": "stdout",
          "text": [
            "   essay_id  essay_set                                              essay  \\\n",
            "0      2383          1  I believe that computers have a positive effec...   \n",
            "1      2384          1  Dear @CAPS1, I know some problems have came up...   \n",
            "2      2385          1  Dear to whom it @MONTH1 concern, Computers are...   \n",
            "3      2386          1  Dear @CAPS1 @CAPS2, @CAPS3 has come to my atte...   \n",
            "4      2387          1  Dear Local newspaper, I think that people have...   \n",
            "\n",
            "   domain1_predictionid  domain2_predictionid  \n",
            "0                  2383                   NaN  \n",
            "1                  2384                   NaN  \n",
            "2                  2385                   NaN  \n",
            "3                  2386                   NaN  \n",
            "4                  2387                   NaN  \n"
          ]
        }
      ]
    }
  ]
}