{
 "cells": [
  {
   "cell_type": "markdown",
   "metadata": {},
   "source": [
    "# Generate training data for fine-tuning GPT-3.5\n"
   ]
  },
  {
   "cell_type": "markdown",
   "metadata": {},
   "source": [
    "## Imports\n"
   ]
  },
  {
   "cell_type": "code",
   "execution_count": 1,
   "metadata": {},
   "outputs": [],
   "source": [
    "import csv\n",
    "from pathlib import Path\n",
    "from typing import List, Dict, Any\n",
    "import random\n",
    "import json"
   ]
  },
  {
   "cell_type": "markdown",
   "metadata": {},
   "source": [
    "## Constants\n"
   ]
  },
  {
   "cell_type": "code",
   "execution_count": 2,
   "metadata": {},
   "outputs": [],
   "source": [
    "out_path = Path(\"out.json\")\n",
    "in_path = Path(\"training_utf-8.tsv\")\n",
    "num_samples_per_set = 50\n",
    "essay_prompts = [\n",
    "    \"Write a letter to your local newspaper in which you state your opinion on the effects computers have on people. Persuade the readers to agree with you.\",\n",
    "    \"Write a persuasive essay to a newspaper reflecting your vies on censorship in libraries. Do you believe that certain materials, such as books, music, movies, magazines, etc., should be removed from the shelves if they are found offensive? Support your position with convincing arguments from your own experience, observations, and/or reading.\",\n",
    "]\n",
    "essay_rubrics = [\n",
    "    \"6 points: A well-developed response that takes a clear and thoughtful position and provides persuasive support. Typically has moderately well elaborated reasons with mostly specific details, exhibits generally strong organization, may be moderately fluent with transitional language throughout, and may show a consistent awareness of audience.\\n5 points: A developed response that takes a clear position and provides reasonably persuasive support. Typically has moderately well elaborated reasons with mostly specific details, exhibits generally strong organization, may be moderately fluent with transitional language throughout, and may show a consistent awareness of audience.\\n4 points: A somewhat-developed response that takes a position and provides adequate support. Typically has adequately elaborated reasons with a mix of general and specific details, shows satisfactory organization, may be somewhat fluent with some transitional language, and shows adequate awareness of audience.\\n3 points: A minimally-developed response that may take a position, but with inadequate support and details. Typically has reasons with minimal elaboration and more general than specific details, shows some organization, may be awkward in parts with few transitions, and shows some awareness of audience.\\n2 points: An under-developed response that may or may not take a position. Typically contains only general reasons with un-elaborated and/or list-like details, shows little or no evidence of organization, may be awkward and confused or simplistic, and may show little awareness of audience.\\n1 points: An undeveloped response that may take a position but offers no more than very minimal support. Typically contains few or vague details, is awkward and fragmented, may be difficult to read and understand, is awkward and fragmented, and may show no awareness of audience.\",\n",
    "    \"TODO\",\n",
    "]\n",
    "target_essay_sets = [1, 2]"
   ]
  },
  {
   "cell_type": "markdown",
   "metadata": {},
   "source": [
    "## Load Raw TSV\n"
   ]
  },
  {
   "cell_type": "code",
   "execution_count": 3,
   "metadata": {},
   "outputs": [],
   "source": [
    "def load_tsv(file_path: Path) -> List[Dict[str, Any]]:\n",
    "    with file_path.open(mode=\"r\", newline=\"\", encoding=\"utf-8\") as file:\n",
    "        reader = csv.DictReader(file, delimiter=\"\\t\")\n",
    "        list_of_dicts = [row for row in reader]\n",
    "    return list_of_dicts\n",
    "\n",
    "\n",
    "training_data_list = load_tsv(in_path)"
   ]
  },
  {
   "cell_type": "code",
   "execution_count": 4,
   "metadata": {},
   "outputs": [],
   "source": [
    "training_samples = ([], [])\n",
    "for training_data in training_data_list:\n",
    "    if (\n",
    "        int(training_data[\"essay_set\"]) in target_essay_sets\n",
    "        and training_data[\"rater1_domain1\"] is not None\n",
    "    ):\n",
    "        index = int(training_data[\"essay_set\"]) - 1\n",
    "        training_samples[index].append(\n",
    "            {\n",
    "                \"prompt\": essay_prompts[index],\n",
    "                \"rubric\": essay_rubrics[index],\n",
    "                \"essay\": training_data[\"essay\"],\n",
    "                \"score\": training_data[\"rater1_domain1\"],\n",
    "            }\n",
    "        )"
   ]
  },
  {
   "cell_type": "code",
   "execution_count": 5,
   "metadata": {},
   "outputs": [],
   "source": [
    "sampled_training_samples = []\n",
    "for target_essay_set in target_essay_sets:\n",
    "    for sample in random.sample(\n",
    "        training_samples[target_essay_set - 1], num_samples_per_set\n",
    "    ):\n",
    "        sampled_training_samples.append(sample)"
   ]
  },
  {
   "cell_type": "code",
   "execution_count": 6,
   "metadata": {},
   "outputs": [],
   "source": [
    "def save_train_samples(sampled_training_samples: List[Dict[str, Any]], out_path: Path):\n",
    "    with out_path.open(\"w\", encoding=\"utf-8\") as fp:\n",
    "        json.dump(sampled_training_samples, fp)\n",
    "\n",
    "\n",
    "save_train_samples(sampled_training_samples, out_path)"
   ]
  }
 ],
 "metadata": {
  "kernelspec": {
   "display_name": "venv",
   "language": "python",
   "name": "python3"
  },
  "language_info": {
   "codemirror_mode": {
    "name": "ipython",
    "version": 3
   },
   "file_extension": ".py",
   "mimetype": "text/x-python",
   "name": "python",
   "nbconvert_exporter": "python",
   "pygments_lexer": "ipython3",
   "version": "3.10.10"
  }
 },
 "nbformat": 4,
 "nbformat_minor": 2
}
